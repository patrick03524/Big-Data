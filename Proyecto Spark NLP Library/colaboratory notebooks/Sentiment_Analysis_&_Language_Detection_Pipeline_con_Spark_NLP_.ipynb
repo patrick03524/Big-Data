{
  "nbformat": 4,
  "nbformat_minor": 0,
  "metadata": {
    "colab": {
      "name": "Sentiment Analysis & Language Detection - Pipeline con Spark NLP .ipynb",
      "provenance": [],
      "collapsed_sections": []
    },
    "kernelspec": {
      "name": "python3",
      "display_name": "Python 3"
    },
    "language_info": {
      "name": "python"
    }
  },
  "cells": [
    {
      "cell_type": "code",
      "metadata": {
        "colab": {
          "base_uri": "https://localhost:8080/"
        },
        "id": "hqk57BnlAPiw",
        "outputId": "615b4041-d7db-489d-94af-52eefbb2ddb0"
      },
      "source": [
        "!wget http://setup.johnsnowlabs.com/colab.sh -O - | bash"
      ],
      "execution_count": 1,
      "outputs": [
        {
          "output_type": "stream",
          "name": "stdout",
          "text": [
            "--2021-12-01 22:05:33--  http://setup.johnsnowlabs.com/colab.sh\n",
            "Resolving setup.johnsnowlabs.com (setup.johnsnowlabs.com)... 51.158.130.125\n",
            "Connecting to setup.johnsnowlabs.com (setup.johnsnowlabs.com)|51.158.130.125|:80... connected.\n",
            "HTTP request sent, awaiting response... 302 Found\n",
            "Location: https://setup.johnsnowlabs.com/colab.sh [following]\n",
            "--2021-12-01 22:05:34--  https://setup.johnsnowlabs.com/colab.sh\n",
            "Connecting to setup.johnsnowlabs.com (setup.johnsnowlabs.com)|51.158.130.125|:443... connected.\n",
            "HTTP request sent, awaiting response... 302 Moved Temporarily\n",
            "Location: https://raw.githubusercontent.com/JohnSnowLabs/spark-nlp/master/scripts/colab_setup.sh [following]\n",
            "--2021-12-01 22:05:34--  https://raw.githubusercontent.com/JohnSnowLabs/spark-nlp/master/scripts/colab_setup.sh\n",
            "Resolving raw.githubusercontent.com (raw.githubusercontent.com)... 185.199.108.133, 185.199.109.133, 185.199.110.133, ...\n",
            "Connecting to raw.githubusercontent.com (raw.githubusercontent.com)|185.199.108.133|:443... connected.\n",
            "HTTP request sent, awaiting response... 200 OK\n",
            "Length: 1275 (1.2K) [text/plain]\n",
            "Saving to: ‘STDOUT’\n",
            "\n",
            "setup Colab for PySpark 3.0.3 and Spark NLP 3.3.4\n",
            "Installing PySpark 3.0.3 and Spark NLP 3.3.4\n",
            "-                   100%[===================>]   1.25K  --.-KB/s    in 0s      \n",
            "\n",
            "2021-12-01 22:05:34 (58.6 MB/s) - written to stdout [1275/1275]\n",
            "\n",
            "\u001b[K     |████████████████████████████████| 209.1 MB 48 kB/s \n",
            "\u001b[K     |████████████████████████████████| 198 kB 60.0 MB/s \n",
            "\u001b[?25h  Building wheel for pyspark (setup.py) ... \u001b[?25l\u001b[?25hdone\n"
          ]
        }
      ]
    },
    {
      "cell_type": "code",
      "metadata": {
        "id": "CqK8DxpEAbPc"
      },
      "source": [
        "import sys\n",
        "\n",
        "from pyspark.sql import SparkSession\n",
        "from pyspark.ml import Pipeline\n",
        "from pyspark.sql.functions import array_contains\n",
        "from pyspark.ml import Pipeline, PipelineModel\n",
        "\n",
        "from sparknlp.annotator import *\n",
        "from sparknlp.pretrained import PretrainedPipeline"
      ],
      "execution_count": 2,
      "outputs": []
    },
    {
      "cell_type": "code",
      "metadata": {
        "colab": {
          "base_uri": "https://localhost:8080/"
        },
        "id": "Ii-baQscAcnj",
        "outputId": "c064f5da-f5af-4789-f48b-b4ee7486d9af"
      },
      "source": [
        "import sparknlp\n",
        "spark = sparknlp.start()\n",
        "\n",
        "print(\"Spark NLP version: \", sparknlp.version())\n",
        "print(\"Apache Spark version: \", spark.version)"
      ],
      "execution_count": 3,
      "outputs": [
        {
          "output_type": "stream",
          "name": "stdout",
          "text": [
            "Spark NLP version:  3.3.4\n",
            "Apache Spark version:  3.0.3\n"
          ]
        }
      ]
    },
    {
      "cell_type": "markdown",
      "metadata": {
        "id": "94Zyq_FlCWj6"
      },
      "source": [
        "# Sentiment Analysis"
      ]
    },
    {
      "cell_type": "code",
      "metadata": {
        "colab": {
          "base_uri": "https://localhost:8080/"
        },
        "id": "PwBGJHWTChH5",
        "outputId": "95862d0f-1e42-448f-f0dd-e98332d385b3"
      },
      "source": [
        "pipeline = PretrainedPipeline(\"analyze_sentiment\", lang=\"en\")"
      ],
      "execution_count": 9,
      "outputs": [
        {
          "output_type": "stream",
          "name": "stdout",
          "text": [
            "analyze_sentiment download started this may take some time.\n",
            "Approx size to download 4.9 MB\n",
            "[OK!]\n"
          ]
        }
      ]
    },
    {
      "cell_type": "code",
      "metadata": {
        "id": "BP5WfF9ICjHw"
      },
      "source": [
        "testDocs = [\"I don't feel alone\"]"
      ],
      "execution_count": 17,
      "outputs": []
    },
    {
      "cell_type": "code",
      "metadata": {
        "colab": {
          "base_uri": "https://localhost:8080/"
        },
        "id": "IitzGX8SCkTf",
        "outputId": "0e62e225-a5bd-48f3-d000-cab835844e5d"
      },
      "source": [
        "result_sentiment = pipeline.annotate(testDocs)\n",
        "[(r['sentence'], r['sentiment']) for r in result_sentiment]"
      ],
      "execution_count": 18,
      "outputs": [
        {
          "output_type": "execute_result",
          "data": {
            "text/plain": [
              "[([\"I don't feel alone\"], ['negative'])]"
            ]
          },
          "metadata": {},
          "execution_count": 18
        }
      ]
    },
    {
      "cell_type": "code",
      "metadata": {
        "colab": {
          "base_uri": "https://localhost:8080/"
        },
        "id": "afJtO6UXCpbD",
        "outputId": "99228a81-4d1e-42fa-8dc5-27c84da945bf"
      },
      "source": [
        "result_sentiment"
      ],
      "execution_count": 16,
      "outputs": [
        {
          "output_type": "execute_result",
          "data": {
            "text/plain": [
              "[{'checked': ['I', 'feel', 'alone'],\n",
              "  'document': ['I feel alone'],\n",
              "  'sentence': ['I feel alone'],\n",
              "  'sentiment': ['positive'],\n",
              "  'token': ['I', 'feel', 'alone']}]"
            ]
          },
          "metadata": {},
          "execution_count": 16
        }
      ]
    },
    {
      "cell_type": "markdown",
      "metadata": {
        "id": "ykj5uZpVBb6h"
      },
      "source": [
        "# Language Detector Pipeline"
      ]
    },
    {
      "cell_type": "code",
      "metadata": {
        "id": "7qOsXWhtAgKp"
      },
      "source": [
        "from sparknlp.base import *"
      ],
      "execution_count": 4,
      "outputs": []
    },
    {
      "cell_type": "code",
      "metadata": {
        "colab": {
          "base_uri": "https://localhost:8080/"
        },
        "id": "NZ7EfSrIAj6L",
        "outputId": "35be03cf-03c9-4e5c-b2c8-e56883ce52e1"
      },
      "source": [
        "documentAssembler = DocumentAssembler()\\\n",
        ".setInputCol(\"text\")\\\n",
        ".setOutputCol(\"document\")\n",
        "\n",
        "language_detector = LanguageDetectorDL.pretrained(\"ld_wiki_tatoeba_cnn_21\")\\\n",
        ".setInputCols([\"document\"])\\\n",
        ".setOutputCol(\"lang\")\\\n",
        ".setThreshold(0.8)\\\n",
        ".setCoalesceSentences(True)\n",
        "\n",
        "languagePipeline = Pipeline(stages=[\n",
        " documentAssembler, \n",
        " language_detector\n",
        "])"
      ],
      "execution_count": 5,
      "outputs": [
        {
          "output_type": "stream",
          "name": "stdout",
          "text": [
            "ld_wiki_tatoeba_cnn_21 download started this may take some time.\n",
            "Approximate size to download 7.1 MB\n",
            "[OK!]\n"
          ]
        }
      ]
    },
    {
      "cell_type": "code",
      "metadata": {
        "id": "QHvdkKeoAlLR"
      },
      "source": [
        "test_df = spark.createDataFrame([\n",
        "  ['Spark NLP is an open-source text processing library for advanced natural language processing for the Python, Java and Scala programming languages.'], \n",
        "  ['Spark NLP est une bibliothèque de traitement de texte open source pour le traitement avancé du langage naturel pour les langages de programmation Python, Java et Scala.']]\n",
        ").toDF(\"text\")\n",
        "\n",
        "results = languagePipeline.fit(test_df).transform(test_df)"
      ],
      "execution_count": 6,
      "outputs": []
    },
    {
      "cell_type": "code",
      "metadata": {
        "colab": {
          "base_uri": "https://localhost:8080/"
        },
        "id": "cQVnrwt8CC8E",
        "outputId": "47a24901-cab0-4e7e-ef6f-cc3c93639615"
      },
      "source": [
        "results.select(\"lang.result\").show()"
      ],
      "execution_count": 7,
      "outputs": [
        {
          "output_type": "stream",
          "name": "stdout",
          "text": [
            "+------+\n",
            "|result|\n",
            "+------+\n",
            "|  [en]|\n",
            "|  [fr]|\n",
            "+------+\n",
            "\n"
          ]
        }
      ]
    },
    {
      "cell_type": "code",
      "metadata": {
        "colab": {
          "base_uri": "https://localhost:8080/"
        },
        "id": "CWPpbTBLCEZJ",
        "outputId": "44aa802c-75e3-46d7-fd4f-7cce36b59443"
      },
      "source": [
        "# probabilities for other languages\n",
        "results.select(\"lang.metadata\").show(2, False)"
      ],
      "execution_count": 8,
      "outputs": [
        {
          "output_type": "stream",
          "name": "stdout",
          "text": [
            "+------------------------------------------------------------------------------------------------------------------------------------------------------------------------------------------------------------------------------------------------------------------------------------------------------------------------------------------------------------------------------------------------------------------------------------+\n",
            "|metadata                                                                                                                                                                                                                                                                                                                                                                                                                            |\n",
            "+------------------------------------------------------------------------------------------------------------------------------------------------------------------------------------------------------------------------------------------------------------------------------------------------------------------------------------------------------------------------------------------------------------------------------------+\n",
            "|[[fr -> 1.5861547E-20, lv -> 0.0, pt -> 1.3417341E-18, cs -> 1.867664E-20, el -> 1.0063604E-37, it -> 5.571756E-19, nl -> 4.506842E-14, bg -> 0.0, et -> 1.1714855E-21, de -> 1.9250228E-15, sv -> 7.832558E-14, da -> 9.432541E-11, en -> 1.0, sk -> 4.0569286E-20, es -> 2.1614668E-21, fi -> 9.727981E-28, ro -> 4.903903E-21, lt -> 5.9740204E-19, sl -> 3.407622E-12, sentence -> 0, hu -> 1.5670284E-14, pl -> 1.0098784E-16]]|\n",
            "|[[fr -> 1.0, lv -> 0.0, pt -> 1.3446618E-30, cs -> 0.0, el -> 0.0, it -> 1.7137803E-27, nl -> 4.1279706E-37, bg -> 0.0, et -> 0.0, de -> 0.0, sv -> 0.0, da -> 0.0, en -> 0.0, sk -> 0.0, es -> 8.6860674E-30, fi -> 0.0, ro -> 9.285847E-25, lt -> 0.0, sl -> 7.775083E-34, sentence -> 0, hu -> 1.5921055E-30, pl -> 0.0]]                                                                                                        |\n",
            "+------------------------------------------------------------------------------------------------------------------------------------------------------------------------------------------------------------------------------------------------------------------------------------------------------------------------------------------------------------------------------------------------------------------------------------+\n",
            "\n"
          ]
        }
      ]
    },
    {
      "cell_type": "markdown",
      "metadata": {
        "id": "If3m1LmCBhVk"
      },
      "source": [
        ""
      ]
    }
  ]
}